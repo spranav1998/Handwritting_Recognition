{
 "cells": [
  {
   "cell_type": "code",
   "execution_count": 1,
   "id": "456c9d1b-bda5-40cc-ba09-fff791aa3e35",
   "metadata": {},
   "outputs": [],
   "source": [
    "# Importing Libraries\n",
    "import numpy as np\n",
    "import pandas as pd\n",
    "import matplotlib.pyplot as plt\n",
    "import seaborn as sns"
   ]
  },
  {
   "cell_type": "code",
   "execution_count": 2,
   "id": "b9524316-df3a-4d23-b3a6-0e99f6732633",
   "metadata": {
    "tags": []
   },
   "outputs": [],
   "source": [
    "NIST_PATH = 'all_images/NIST/A_Z Handwritten Data.csv' # Defining the Dataset Path"
   ]
  },
  {
   "cell_type": "code",
   "execution_count": 3,
   "id": "93160060-62df-48be-b1ae-a4c6f591632c",
   "metadata": {
    "tags": []
   },
   "outputs": [
    {
     "name": "stdout",
     "output_type": "stream",
     "text": [
      "Num GPUs Available:  1\n"
     ]
    }
   ],
   "source": [
    "# Intializing the tensorflow and GPU\n",
    "import tensorflow as tf\n",
    "\n",
    "gpus = tf.config.list_physical_devices('GPU')\n",
    "print(\"Num GPUs Available: \", len(gpus))\n",
    "if gpus >= 1:\n",
    "    tf.config.experimental.set_memory_growth(gpus[0], True)\n",
    "else: \n",
    "    print(f'GPU not found, Using CPU for tensorflow')"
   ]
  },
  {
   "cell_type": "code",
   "execution_count": 4,
   "id": "90a76d00-3f89-4851-bc33-992d02103ee5",
   "metadata": {
    "tags": []
   },
   "outputs": [],
   "source": [
    "import numpy as np\n",
    "import cv2\n",
    "\n",
    "def load_az_dataset(dataset_path):\n",
    "    # List for storing data\n",
    "    data = []\n",
    "    # List for storing labels\n",
    "    labels = []\n",
    "\n",
    "    for row in open(dataset_path): #Openfile and start reading each row\n",
    "        #Split the row at every comma\n",
    "        row = row.split(\",\")\n",
    "        #row[0] contains label\n",
    "        label = int(row[0])\n",
    "        #Other all collumns contains pixel values make a saperate array for that\n",
    "        img = np.array([int(x) for x in row[1:]], dtype=\"uint8\")\n",
    "        #Reshaping image to 28 x 28 pixels\n",
    "        img = img.reshape((28, 28))\n",
    "        #append image to data\n",
    "        data.append(img)\n",
    "        #append label to labels\n",
    "        labels.append(label)\n",
    "\n",
    "    #Converting data to numpy array of type float32\n",
    "    data = np.array(data, dtype='float32')\n",
    "    #Converting labels to type int\n",
    "    labels = np.array(labels, dtype=\"int\")\n",
    "\n",
    "    return (data, labels)"
   ]
  },
  {
   "cell_type": "code",
   "execution_count": 5,
   "id": "bf19f2b4-d944-4756-841d-204c776da9a5",
   "metadata": {
    "tags": []
   },
   "outputs": [],
   "source": [
    "(images, labels) = load_az_dataset(NIST_PATH) # Using the fucntion to load the dataset\n",
    "\n",
    "images = [cv2.resize(image, (32, 32)) for image in images] # Resizing the images to 32 x 32\n",
    "images = np.array(images, dtype=\"float32\") # Converting to float 32 for tensorflow models\n",
    "\n",
    "# add a channel dimension to every image in the dataset and scale the\n",
    "# pixel intensities of the images from [0, 255] down to [0, 1]\n",
    "\n",
    "images = np.expand_dims(images, axis=-1) # Adding a Channel dimension as tensorflow models only accpet (H, W, C) or (B, H, W, C)\n",
    "images /= 255.0 # Normailzing the values from range [0 255] to [0 1]"
   ]
  },
  {
   "cell_type": "code",
   "execution_count": 6,
   "id": "964679f4-d4db-45b1-b659-c294b9c5b354",
   "metadata": {
    "tags": []
   },
   "outputs": [],
   "source": [
    "from sklearn.preprocessing import LabelBinarizer # Importing the Label Binarizer to one hot encode the labels\n",
    "\n",
    "le = LabelBinarizer() # Calling the function\n",
    "labels = le.fit_transform(labels) # Fitting the labels and transforming the labels"
   ]
  },
  {
   "cell_type": "code",
   "execution_count": 8,
   "id": "00087b7f-f6f9-4a4b-9e94-bf83cc57cb46",
   "metadata": {
    "tags": []
   },
   "outputs": [],
   "source": [
    "from sklearn.model_selection import train_test_split # importing the train test split to split the dataset\n",
    "\n",
    "X_train, X_test, y_train, y_test = train_test_split(images, labels, test_size=0.2) # splitting the dataset\n",
    "\n",
    "del images, labels # deleting the old variabel to save RAM"
   ]
  },
  {
   "cell_type": "code",
   "execution_count": 9,
   "id": "ac5f4458-4b35-4c71-a831-05a48076f477",
   "metadata": {
    "tags": []
   },
   "outputs": [
    {
     "data": {
      "text/plain": [
       "((297960, 26), (74491, 26))"
      ]
     },
     "execution_count": 9,
     "metadata": {},
     "output_type": "execute_result"
    }
   ],
   "source": [
    "y_train.shape, y_test.shape # Getting a shape to verify/check"
   ]
  },
  {
   "cell_type": "code",
   "execution_count": 10,
   "id": "de23690d-286f-4a09-ab12-f16d44e6c04f",
   "metadata": {
    "tags": []
   },
   "outputs": [
    {
     "name": "stdout",
     "output_type": "stream",
     "text": [
      "Model: \"sequential\"\n",
      "_________________________________________________________________\n",
      " Layer (type)                Output Shape              Param #   \n",
      "=================================================================\n",
      " batch_normalization (BatchN  (None, 32, 32, 1)        4         \n",
      " ormalization)                                                   \n",
      "                                                                 \n",
      " conv2d (Conv2D)             (None, 32, 32, 32)        320       \n",
      "                                                                 \n",
      " conv2d_1 (Conv2D)           (None, 32, 32, 32)        9248      \n",
      "                                                                 \n",
      " conv2d_2 (Conv2D)           (None, 32, 32, 64)        18496     \n",
      "                                                                 \n",
      " conv2d_3 (Conv2D)           (None, 32, 32, 64)        36928     \n",
      "                                                                 \n",
      " max_pooling2d (MaxPooling2D  (None, 16, 16, 64)       0         \n",
      " )                                                               \n",
      "                                                                 \n",
      " conv2d_4 (Conv2D)           (None, 16, 16, 128)       73856     \n",
      "                                                                 \n",
      " conv2d_5 (Conv2D)           (None, 16, 16, 128)       147584    \n",
      "                                                                 \n",
      " max_pooling2d_1 (MaxPooling  (None, 8, 8, 128)        0         \n",
      " 2D)                                                             \n",
      "                                                                 \n",
      " conv2d_6 (Conv2D)           (None, 8, 8, 256)         295168    \n",
      "                                                                 \n",
      " conv2d_7 (Conv2D)           (None, 8, 8, 256)         590080    \n",
      "                                                                 \n",
      " max_pooling2d_2 (MaxPooling  (None, 4, 4, 256)        0         \n",
      " 2D)                                                             \n",
      "                                                                 \n",
      " global_average_pooling2d (G  (None, 256)              0         \n",
      " lobalAveragePooling2D)                                          \n",
      "                                                                 \n",
      " dense (Dense)               (None, 58)                14906     \n",
      "                                                                 \n",
      " dense_1 (Dense)             (None, 26)                1534      \n",
      "                                                                 \n",
      "=================================================================\n",
      "Total params: 1,188,124\n",
      "Trainable params: 1,188,122\n",
      "Non-trainable params: 2\n",
      "_________________________________________________________________\n"
     ]
    }
   ],
   "source": [
    "# Buidling the model\n",
    "\n",
    "# Importing the required layer classes\n",
    "from tensorflow.keras.layers import Conv2D, BatchNormalization, MaxPooling2D, GlobalAveragePooling2D, Dropout\n",
    "from tensorflow.keras.layers import Dense, Flatten, Input\n",
    "\n",
    "# Importing the Sequential\n",
    "from tensorflow.keras import Sequential\n",
    "\n",
    "# Calling the sequential\n",
    "model = Sequential()\n",
    "\n",
    "# Setting up a input to the model and defining the shape of input\n",
    "model.add(Input(shape=X_train.shape[1:]))\n",
    "\n",
    "# Adding the main layer\n",
    "model.add(BatchNormalization())\n",
    "model.add(Conv2D(filters=32, kernel_size=(3,3), activation='relu', padding='same'))\n",
    "model.add(Conv2D(filters=32, kernel_size=(3,3), activation='relu', padding='same'))\n",
    "model.add(Conv2D(filters=64, kernel_size=(3,3), activation='relu', padding='same'))\n",
    "model.add(Conv2D(filters=64, kernel_size=(3,3), activation='relu', padding='same'))\n",
    "model.add(MaxPooling2D((2,2)))\n",
    "model.add(Conv2D(filters=128, kernel_size=(3,3), activation='relu', padding='same'))\n",
    "model.add(Conv2D(filters=128, kernel_size=(3,3), activation='relu', padding='same'))\n",
    "model.add(MaxPooling2D((2,2)))\n",
    "model.add(Conv2D(filters=256, kernel_size=(3,3), activation='relu', padding='same'))\n",
    "model.add(Conv2D(filters=256, kernel_size=(3,3), activation='relu', padding='same'))\n",
    "model.add(MaxPooling2D((2,2)))\n",
    "\n",
    "model.add(GlobalAveragePooling2D())\n",
    "\n",
    "model.add(Dense(units=58, activation='relu'))\n",
    "model.add(Dense(units=26, activation='softmax'))\n",
    "\n",
    "model.summary()"
   ]
  },
  {
   "cell_type": "code",
   "execution_count": 11,
   "id": "cf549e7c-29bd-4214-9a57-671c043bed17",
   "metadata": {
    "tags": []
   },
   "outputs": [
    {
     "name": "stdout",
     "output_type": "stream",
     "text": [
      "Epoch 1/20\n",
      "37245/37245 [==============================] - 290s 8ms/step - loss: 0.1230 - accuracy: 0.9654 - val_loss: 0.0523 - val_accuracy: 0.9860\n",
      "Epoch 2/20\n",
      "37245/37245 [==============================] - 290s 8ms/step - loss: 0.0313 - accuracy: 0.9914 - val_loss: 0.0286 - val_accuracy: 0.9924\n",
      "Epoch 3/20\n",
      "37245/37245 [==============================] - 292s 8ms/step - loss: 0.0170 - accuracy: 0.9954 - val_loss: 0.0230 - val_accuracy: 0.9947\n",
      "Epoch 4/20\n",
      "37245/37245 [==============================] - 292s 8ms/step - loss: 0.0095 - accuracy: 0.9973 - val_loss: 0.0222 - val_accuracy: 0.9954\n",
      "Epoch 5/20\n",
      "37245/37245 [==============================] - 295s 8ms/step - loss: 0.0050 - accuracy: 0.9986 - val_loss: 0.0193 - val_accuracy: 0.9965\n",
      "Epoch 6/20\n",
      "37245/37245 [==============================] - 295s 8ms/step - loss: 0.0025 - accuracy: 0.9993 - val_loss: 0.0206 - val_accuracy: 0.9966\n",
      "Epoch 7/20\n",
      "37245/37245 [==============================] - 292s 8ms/step - loss: 0.0013 - accuracy: 0.9996 - val_loss: 0.0258 - val_accuracy: 0.9967\n",
      "Epoch 8/20\n",
      "37245/37245 [==============================] - 294s 8ms/step - loss: 7.4992e-04 - accuracy: 0.9998 - val_loss: 0.0275 - val_accuracy: 0.9970\n",
      "Epoch 9/20\n",
      "37245/37245 [==============================] - 300s 8ms/step - loss: 3.7199e-04 - accuracy: 0.9999 - val_loss: 0.0330 - val_accuracy: 0.9971\n",
      "Epoch 10/20\n",
      "37245/37245 [==============================] - 290s 8ms/step - loss: 2.3798e-04 - accuracy: 0.9999 - val_loss: 0.0344 - val_accuracy: 0.9972\n",
      "Epoch 11/20\n",
      "37245/37245 [==============================] - 291s 8ms/step - loss: 1.1573e-04 - accuracy: 1.0000 - val_loss: 0.0409 - val_accuracy: 0.9973\n",
      "Epoch 12/20\n",
      "37245/37245 [==============================] - 288s 8ms/step - loss: 2.9251e-05 - accuracy: 1.0000 - val_loss: 0.0481 - val_accuracy: 0.9975\n",
      "Epoch 13/20\n",
      "37245/37245 [==============================] - 294s 8ms/step - loss: 7.2012e-05 - accuracy: 1.0000 - val_loss: 0.0530 - val_accuracy: 0.9974\n",
      "Epoch 14/20\n",
      "37245/37245 [==============================] - 300s 8ms/step - loss: 1.6363e-05 - accuracy: 1.0000 - val_loss: 0.0541 - val_accuracy: 0.9974\n",
      "Epoch 15/20\n",
      "37245/37245 [==============================] - 295s 8ms/step - loss: 1.2878e-06 - accuracy: 1.0000 - val_loss: 0.0625 - val_accuracy: 0.9975\n",
      "Epoch 16/20\n",
      "37245/37245 [==============================] - 299s 8ms/step - loss: 1.9275e-05 - accuracy: 1.0000 - val_loss: 0.0660 - val_accuracy: 0.9976\n",
      "Epoch 17/20\n",
      "37245/37245 [==============================] - 297s 8ms/step - loss: 2.0229e-05 - accuracy: 1.0000 - val_loss: 0.0682 - val_accuracy: 0.9976\n",
      "Epoch 18/20\n",
      "37245/37245 [==============================] - 299s 8ms/step - loss: 5.3522e-08 - accuracy: 1.0000 - val_loss: 0.0713 - val_accuracy: 0.9976\n",
      "Epoch 19/20\n",
      "37245/37245 [==============================] - 303s 8ms/step - loss: 6.5598e-06 - accuracy: 1.0000 - val_loss: 0.0723 - val_accuracy: 0.9976\n",
      "Epoch 20/20\n",
      "37245/37245 [==============================] - 323s 9ms/step - loss: 1.3523e-10 - accuracy: 1.0000 - val_loss: 0.0752 - val_accuracy: 0.9976\n"
     ]
    }
   ],
   "source": [
    "# Impoting the optimizer\n",
    "from tensorflow.keras.optimizers import Adam\n",
    "\n",
    "EPOCHS = 20 # Setting No. of Epochs\n",
    "BS = 8 # Setting Batch Size\n",
    "\n",
    "# Defining the optimizer and adding a decay to avoid overfit\n",
    "opt = Adam(learning_rate=1e-3, decay=1e-3 / EPOCHS)\n",
    "\n",
    "# Compiling the model\n",
    "model.compile(loss=\"categorical_crossentropy\", optimizer=opt,metrics=[\"accuracy\"])\n",
    "\n",
    "# Fitting the model with training data and checking the performance with the testing data\n",
    "history = model.fit(X_train, y_train,\n",
    "              batch_size = BS,\n",
    "              validation_data=(X_test, y_test),\n",
    "              steps_per_epoch=len(X_train) // BS,\n",
    "              epochs=EPOCHS,\n",
    "              verbose=1)"
   ]
  },
  {
   "cell_type": "code",
   "execution_count": 12,
   "id": "04023b96-8485-48d2-9cc2-732c6b21356c",
   "metadata": {
    "tags": []
   },
   "outputs": [],
   "source": [
    "model.save('./NIST_MODEL_1.h5') # Saving the model"
   ]
  },
  {
   "cell_type": "code",
   "execution_count": 88,
   "id": "c29d4ebc-67d2-413e-8cae-3924f658b447",
   "metadata": {
    "tags": []
   },
   "outputs": [],
   "source": [
    "# Pipeline to load new images for testing\n",
    "def pred_word_from_image(path, word=False, model_path='./NIST_MODEL_1.h5'):\n",
    "    #\n",
    "    import tensorflow as tf\n",
    "    import cv2\n",
    "    import matplotlib.pyplot as plt\n",
    "    #\n",
    "    label_letter_dict = {0:'a', 1:'b', 2:'c', 3:'d', 4:'e',\n",
    "                        5:'f', 6:'g', 7:'h', 8:'i', 9:'j',\n",
    "                        10:'k', 11:'l', 12:'m', 13:'n', 14:'o',\n",
    "                        15:'p', 16:'q', 17:'r', 18:'s', 19:'t',\n",
    "                        20:'u', 21:'v', 22:'w', 23:'x', 24:'y', 25:'z'}\n",
    "    #\n",
    "    if word:\n",
    "        pred_word = []\n",
    "        for i in path:\n",
    "            img = cv2.imread(i, cv2.IMREAD_COLOR)\n",
    "            img = cv2.resize(img, (32, 32), interpolation=cv2.INTER_AREA)\n",
    "            img = cv2.cvtColor(img, cv2.COLOR_BGR2GRAY)\n",
    "            img = cv2.bitwise_not(img)\n",
    "            plt.imshow(img)\n",
    "            img = np.expand_dims(img, axis=0)\n",
    "            img = np.array(img, dtype=\"float32\")\n",
    "            img /= 255.0\n",
    "            model = tf.keras.models.load_model(model_path)\n",
    "            pred = model.predict(img)\n",
    "            #pred_word.append(label_letter_dict[le.inverse_transform(pred)])\n",
    "        return pred_word, pred\n",
    "    else:\n",
    "        img = cv2.imread(path, cv2.IMREAD_COLOR)\n",
    "        img = cv2.resize(img, (32, 32), interpolation=cv2.INTER_AREA)\n",
    "        img = cv2.cvtColor(img, cv2.COLOR_BGR2GRAY)\n",
    "        img = cv2.bitwise_not(img)\n",
    "        plt.imshow(img)\n",
    "        img = np.expand_dims(img, axis=0)\n",
    "        img = np.array(img, dtype=\"float32\")\n",
    "        img /= 255.0\n",
    "        model = tf.keras.models.load_model(model_path)\n",
    "        pred = np.argmax(model.predict(img), axis=1)\n",
    "        pred_letter = label_letter_dict[pred[0]]\n",
    "        return pred_letter, pred"
   ]
  },
  {
   "cell_type": "code",
   "execution_count": 121,
   "id": "a932026a-e1d7-4334-88c3-a3eccd2d5251",
   "metadata": {
    "tags": []
   },
   "outputs": [
    {
     "name": "stdout",
     "output_type": "stream",
     "text": [
      "1/1 [==============================] - 0s 85ms/step\n"
     ]
    },
    {
     "data": {
      "text/plain": [
       "('b', array([1], dtype=int64))"
      ]
     },
     "execution_count": 121,
     "metadata": {},
     "output_type": "execute_result"
    },
    {
     "data": {
      "image/png": "[encoded data removed]",
      "text/plain": [
       "<Figure size 640x480 with 1 Axes>"
      ]
     },
     "metadata": {},
     "output_type": "display_data"
    }
   ],
   "source": [
    "a_path = 'all_images/Cropped_Images/B_002.jpg'\n",
    "pred_word_from_image(a_path)"
   ]
  },
  {
   "cell_type": "code",
   "execution_count": null,
   "id": "5df20208-475e-4780-ab61-7052128a4d3c",
   "metadata": {},
   "outputs": [],
   "source": []
  }
 ],
 "metadata": {
  "kernelspec": {
   "display_name": "Python 3 (ipykernel)",
   "language": "python",
   "name": "python3"
  },
  "language_info": {
   "codemirror_mode": {
    "name": "ipython",
    "version": 3
   },
   "file_extension": ".py",
   "mimetype": "text/x-python",
   "name": "python",
   "nbconvert_exporter": "python",
   "pygments_lexer": "ipython3",
   "version": "3.10.6"
  }
 },
 "nbformat": 4,
 "nbformat_minor": 5
}
